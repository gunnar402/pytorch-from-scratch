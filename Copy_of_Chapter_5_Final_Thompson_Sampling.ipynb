{
  "nbformat": 4,
  "nbformat_minor": 0,
  "metadata": {
    "colab": {
      "name": "Copy of Chapter 5_Final_Thompson Sampling",
      "provenance": [],
      "collapsed_sections": [],
      "authorship_tag": "ABX9TyOHH/4z8DTkfXUswpbvYZBk",
      "include_colab_link": true
    },
    "kernelspec": {
      "name": "python3",
      "display_name": "Python 3"
    }
  },
  "cells": [
    {
      "cell_type": "markdown",
      "metadata": {
        "id": "view-in-github",
        "colab_type": "text"
      },
      "source": [
        "<a href=\"https://colab.research.google.com/github/gunnar402/pytorch-from-scratch/blob/master/Copy_of_Chapter_5_Final_Thompson_Sampling.ipynb\" target=\"_parent\"><img src=\"https://colab.research.google.com/assets/colab-badge.svg\" alt=\"Open In Colab\"/></a>"
      ]
    },
    {
      "cell_type": "code",
      "metadata": {
        "id": "AlzGKVZimoSV",
        "colab": {
          "base_uri": "https://localhost:8080/",
          "height": 143
        },
        "outputId": "463ab0d1-7003-43b5-bba1-f754624f4f24"
      },
      "source": [
        "# Importing the libraries\n",
        "import numpy as np\n",
        "\n",
        "# Setting the conversion rates and the number of samples\n",
        "conversionRates = [0.13, 0.04, 0.15, 0.11, 0.05]\n",
        "N = 10000\n",
        "d = len(conversionRates)\n",
        "\n",
        "# Creating the data set, where N (rows) is number of samples and j (columns) \n",
        "# is number of slot machines\n",
        "X = np.zeros((N,d))\n",
        "for i in range(N):\n",
        "  for j in range(d):\n",
        "    if np.random.rand() < conversionRates[j]:\n",
        "      X[i][j] = 1\n",
        "\n",
        "# Making arrays to count wins and losses for each slot machine (j)\n",
        "nPosReward = np.zeros(d)\n",
        "nNegReward = np.zeros(d)\n",
        "\n",
        "# Taking our best slot machine through beta distribution and updating its \n",
        "#losses and wins\n",
        "for i in range(N):\n",
        "  selected = 0\n",
        "  maxRandom = 0\n",
        "# At each round 'i', associate each slot machine 'j' with its beta distribution\n",
        "  for j in range(d):\n",
        "    randomBeta = np.random.beta(nPosReward[j] + 1, nNegReward[j] + 1)\n",
        "    if randomBeta > maxRandom:\n",
        "      maxRandom = randomBeta \n",
        "      selected = j\n",
        "# Steps above ensure that next play (see if/else below) will be on the slot machine\n",
        "# with the best beta distribution, i.e., large 'a' (shifts distribution right) \n",
        "# and small 'b' (shifts distribution right)\n",
        "\n",
        "  if X[i][selected] == 1:\n",
        "    nPosReward[selected] += 1\n",
        "  else:\n",
        "    nNegReward[selected] += 1\n",
        "\n",
        "# Showing which slot machine is considered best\n",
        "nSelected = nPosReward + nNegReward\n",
        "sum = 0\n",
        "for i in range(d):\n",
        "  print('Machine number ' + str(i + 1) + ' was selected ' + str(nSelected[i]) + ' times')\n",
        "  sum += nSelected[i]\n",
        "print('Conclusion: Best machine number ' + str(np.argmax(nSelected) + 1))\n",
        "print('Total samples equals ' + str(sum))\n"
      ],
      "execution_count": null,
      "outputs": [
        {
          "output_type": "stream",
          "text": [
            "Machine number 1 was selected 1355.0 times\n",
            "Machine number 2 was selected 43.0 times\n",
            "Machine number 3 was selected 8167.0 times\n",
            "Machine number 4 was selected 341.0 times\n",
            "Machine number 5 was selected 94.0 times\n",
            "Conclusion: Best machine number 3\n",
            "Total samples equals 10000.0\n"
          ],
          "name": "stdout"
        }
      ]
    }
  ]
}